{
 "cells": [
  {
   "cell_type": "markdown",
   "metadata": {},
   "source": [
    "## Blahut-Arimoto Algorithm"
   ]
  },
  {
   "cell_type": "markdown",
   "metadata": {},
   "source": [
    "Iterative algorithm, iteretively computes the channel Capacity and the distortion Function. \n",
    "Clustering is a compression problem. We want to find the max compression given a desired distortion rate."
   ]
  },
  {
   "cell_type": "code",
   "execution_count": 1,
   "metadata": {},
   "outputs": [],
   "source": [
    "import numpy as np\n",
    "from scipy.spatial import distance_matrix\n",
    "from matplotlib import pyplot as plt\n",
    "import random as ran\n",
    "import math as math"
   ]
  },
  {
   "cell_type": "code",
   "execution_count": 2,
   "metadata": {},
   "outputs": [],
   "source": [
    "def read_and_convert_data_points(filename):\n",
    "    splits = []\n",
    "    with open(filename, 'r') as f:\n",
    "        data_points = f.readlines()\n",
    "    \n",
    "    for data_point in data_points:\n",
    "        splits.append(data_point.split())\n",
    "    \n",
    "    return np.array(splits, dtype=np.float)"
   ]
  },
  {
   "cell_type": "code",
   "execution_count": 3,
   "metadata": {},
   "outputs": [],
   "source": [
    "def scatter_plot(data, file_name='none', i=0, j=0):\n",
    "    if i != 0:\n",
    "        x_1, y_1 = data_points[0:i].T\n",
    "        x_2, y_2 = data_points[i:j].T\n",
    "        plt.scatter(x_1, y_1, color='r')\n",
    "        plt.scatter(x_2, y_2, color = 'g')\n",
    "        \n",
    "        if file_name =='none': \n",
    "            plt.show()\n",
    "        else:\n",
    "            plt.savefig(file_name)\n",
    "            plt.show() \n",
    "    else:\n",
    "        x, y = data.T\n",
    "        plt.scatter(x,y)\n",
    "        if file_name =='none': \n",
    "            plt.show()\n",
    "        else:\n",
    "            plt.savefig(file_name)\n",
    "            plt.show()    \n"
   ]
  },
  {
   "cell_type": "code",
   "execution_count": 4,
   "metadata": {},
   "outputs": [],
   "source": [
    "def generate_random_clusters_conditional_probability(clusters_number):\n",
    "    initial_cond_prob = np.zeros((clusters_number,Npts,1))\n",
    "    for i in range(clusters_number):\n",
    "        x = np.random.rand(Npts,1)\n",
    "        initial_cond_prob[i] = x/sum(x)\n",
    "    return initial_cond_prob"
   ]
  },
  {
   "cell_type": "code",
   "execution_count": 5,
   "metadata": {},
   "outputs": [],
   "source": [
    "data_points = read_and_convert_data_points('Data_Exercise4_2019')"
   ]
  },
  {
   "cell_type": "code",
   "execution_count": 6,
   "metadata": {},
   "outputs": [
    {
     "data": {
      "image/png": "[encoded data removed]",
      "text/plain": [
       "<Figure size 432x288 with 1 Axes>"
      ]
     },
     "metadata": {
      "needs_background": "light"
     },
     "output_type": "display_data"
    }
   ],
   "source": [
    "scatter_plot(data_points, 'scatter_plot.png')"
   ]
  },
  {
   "cell_type": "code",
   "execution_count": 7,
   "metadata": {
    "scrolled": true
   },
   "outputs": [
    {
     "data": {
      "image/png": "[encoded data removed]",
      "text/plain": [
       "<Figure size 432x288 with 1 Axes>"
      ]
     },
     "metadata": {
      "needs_background": "light"
     },
     "output_type": "display_data"
    }
   ],
   "source": [
    "scatter_plot(data_points, file_name='scatter_plot_color.png', i=100, j=300)"
   ]
  },
  {
   "cell_type": "code",
   "execution_count": 8,
   "metadata": {},
   "outputs": [],
   "source": [
    "Npts, Ndim = data_points.shape\n",
    "distance_matrix_= distance_matrix(data_points,data_points) # define similarities"
   ]
  },
  {
   "cell_type": "code",
   "execution_count": 9,
   "metadata": {},
   "outputs": [],
   "source": [
    "clusters_number = 2\n",
    "beta = 2\n",
    "priors = 1/Npts\n",
    "priors_matrix = np.full((Npts, 1), 1/Npts)\n",
    "#In the first step we initialize our conditional probabilities randomly.\n",
    "initial_conditional_prob = generate_random_clusters_conditional_probability(2)\n",
    "evidence = np.zeros((clusters_number, 1, 1))  \n",
    "posteriori_prob = np.zeros((clusters_number, Npts, 1))\n",
    "element_cluster_distance = np.zeros((clusters_number, Npts,1))\n",
    "element_weight_matrix = np.zeros((clusters_number, Npts, 1))\n",
    "normalized_partition_funct = np.zeros((clusters_number, 1, 1))\n",
    "\n",
    "for i in range(clusters_number):\n",
    "    ##Evidence, probability of all clusters: Scalar\n",
    "    evidence[i] = np.dot(initial_conditional_prob[i].transpose(),priors_matrix)\n",
    "    \n",
    "    #A posteriori probability for each element of all clusters\n",
    "    posteriori_prob[i] = (np.multiply(initial_conditional_prob[i],priors_matrix))/evidence[i]\n",
    "    \n",
    "    ##Element to cluster distance\n",
    "    for idx, (posteriori_prob_j, distance_j) in enumerate(zip(posteriori_prob[i], distance_matrix_)):\n",
    "         element_cluster_distance[i, idx] = sum([posteriori_prob_j*j for j in distance_j]) \n",
    "\n",
    "##Normalization partition function for all clusters\n",
    "beta_elem_distance_product = np.multiply(beta, element_cluster_distance)\n",
    "            \n",
    "for i in range(clusters_number):\n",
    "    \n",
    "    for idx, j in enumerate(beta_elem_distance_product[i]):\n",
    "        element_weight_matrix[i,idx] = evidence[i]* (math.exp(-j))\n",
    "\n",
    "    normalized_partition_funct[i] = sum(element_weight_matrix[i]) \n",
    "\n",
    "##Update Initial conditional probabilities matrix for all clusters\n",
    "updated_elements_likelihood_matrix = element_weight_matrix/normalized_partition_funct\n",
    "\n",
    "##Averaged element to cluster distance <d>\n",
    "D = 0\n",
    "\n",
    "for i in range(clusters_number):\n",
    "    D += evidence[i]*sum(np.multiply(posteriori_prob[i],element_cluster_distance[i]))\n",
    "    \n",
    "##Compression rate\n",
    "compression_rate = 0\n",
    "joint_probability = np.multiply(evidence,posteriori_prob)\n",
    "ratios = updated_elements_likelihood_matrix/priors\n",
    "\n",
    "for idx, (joint_prob, ratio) in enumerate(zip(joint_probability, ratios)):\n",
    "    for i in range(clusters_number):\n",
    "        compression_rate += np.multiply(joint_probability[i, idx],np.log2(ratios[i, idx]))\n",
    "\n",
    "lagrange_multiplier = compression_rate + beta*D"
   ]
  },
  {
   "cell_type": "code",
   "execution_count": null,
   "metadata": {},
   "outputs": [],
   "source": []
  }
 ],
 "metadata": {
  "kernelspec": {
   "display_name": "Python 3",
   "language": "python",
   "name": "python3"
  },
  "language_info": {
   "codemirror_mode": {
    "name": "ipython",
    "version": 3
   },
   "file_extension": ".py",
   "mimetype": "text/x-python",
   "name": "python",
   "nbconvert_exporter": "python",
   "pygments_lexer": "ipython3",
   "version": "3.6.6"
  }
 },
 "nbformat": 4,
 "nbformat_minor": 2
}
